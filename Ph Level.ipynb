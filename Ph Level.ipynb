{
 "cells": [
  {
   "cell_type": "code",
   "execution_count": 3,
   "id": "7c8fc9bc-24fb-4ae0-8a7c-03c7bbb17181",
   "metadata": {},
   "outputs": [
    {
     "name": "stdout",
     "output_type": "stream",
     "text": [
      "Model Evaluation:\n",
      "Mean Absolute Error (MAE): 7.239729587632444e-17\n",
      "Mean Squared Error (MSE): 1.2860343168399246e-31\n",
      "Root Mean Squared Error (RMSE): 3.586132062319965e-16\n",
      "\n",
      "Example Predictions:\n",
      "[8.36068 8.36576 8.36308 8.36409 8.36269]\n"
     ]
    }
   ],
   "source": [
    "# Import necessary libraries\n",
    "import pandas as pd\n",
    "from sklearn.model_selection import train_test_split\n",
    "from sklearn.linear_model import LinearRegression\n",
    "from sklearn.metrics import mean_absolute_error, mean_squared_error\n",
    "import numpy as np\n",
    "\n",
    "# Load the data (replace 'file.csv' with your file path)\n",
    "file_path = 'OceanCleaned.csv'  # Update the file path\n",
    "\n",
    "data = pd.read_csv(file_path)\n",
    "\n",
    "# Display first few rows to verify\n",
    "data.head()\n",
    "\n",
    "# Step 1: Preprocessing\n",
    "# Drop unnecessary columns (e.g., Mooring Name, Date, Time)\n",
    "data = data.drop(['Mooring Name', 'Date', 'Time'], axis=1)\n",
    "\n",
    "# Check for missing values\n",
    "data = data.dropna()  # Drop rows with missing values (or handle them as needed)\n",
    "\n",
    "# Step 2: Define features (X) and target (y)\n",
    "X = data.drop(['pH (total scale)'], axis=1)  # Features\n",
    "y = data['pH (total scale)']  # Target\n",
    "\n",
    "# Step 3: Train-test split\n",
    "X_train, X_test, y_train, y_test = train_test_split(X, y, test_size=0.2, random_state=42)\n",
    "\n",
    "# Step 4: Train Linear Regression model\n",
    "model = LinearRegression()\n",
    "model.fit(X_train, y_train)\n",
    "\n",
    "# Step 5: Evaluate the model\n",
    "y_pred = model.predict(X_test)\n",
    "\n",
    "mae = mean_absolute_error(y_test, y_pred)\n",
    "mse = mean_squared_error(y_test, y_pred)\n",
    "rmse = np.sqrt(mse)\n",
    "\n",
    "print(\"Model Evaluation:\")\n",
    "print(f\"Mean Absolute Error (MAE): {mae}\")\n",
    "print(f\"Mean Squared Error (MSE): {mse}\")\n",
    "print(f\"Root Mean Squared Error (RMSE): {rmse}\")\n",
    "\n",
    "# Step 6: Make predictions (example)\n",
    "example_data = X_test.iloc[:5]  # Take the first 5 rows from the test set as examples\n",
    "predicted_pH = model.predict(example_data)\n",
    "\n",
    "print(\"\\nExample Predictions:\")\n",
    "print(predicted_pH)\n"
   ]
  },
  {
   "cell_type": "code",
   "execution_count": null,
   "id": "ba3a7d96-2324-49ec-8476-58be1946c46e",
   "metadata": {},
   "outputs": [],
   "source": []
  }
 ],
 "metadata": {
  "kernelspec": {
   "display_name": "Python 3 (ipykernel)",
   "language": "python",
   "name": "python3"
  },
  "language_info": {
   "codemirror_mode": {
    "name": "ipython",
    "version": 3
   },
   "file_extension": ".py",
   "mimetype": "text/x-python",
   "name": "python",
   "nbconvert_exporter": "python",
   "pygments_lexer": "ipython3",
   "version": "3.12.7"
  }
 },
 "nbformat": 4,
 "nbformat_minor": 5
}
